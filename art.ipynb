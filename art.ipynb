{
 "cells": [
  {
   "cell_type": "markdown",
   "metadata": {},
   "source": [
    "# Essencial imports\n",
    "* Importing os to work with system files.\n",
    "* Importing shutil to copy and remove files.\n",
    "* Importing random to shuffle list\n",
    "* Importing math to work with `floor()` method.\n",
    "* Importing zipfile ro unzip downloaded zip files.\n",
    "* Importing matplotlib to plot and save plots.\n",
    "* Importing tensorflow to create and train model."
   ]
  },
  {
   "cell_type": "code",
   "execution_count": 18,
   "metadata": {
    "colab": {
     "base_uri": "https://localhost:8080/",
     "height": 208
    },
    "colab_type": "code",
    "id": "I2crcPZvIMui",
    "outputId": "cad9427b-5328-4038-c5b1-4f6bfd90baa5"
   },
   "outputs": [],
   "source": [
    "import os\n",
    "import shutil\n",
    "from shutil import copyfile\n",
    "import random\n",
    "import math\n",
    "import zipfile\n",
    "import matplotlib.pyplot as plt\n",
    "import tensorflow as tf\n",
    "from tensorflow.keras.optimizers import RMSprop\n",
    "from tensorflow.keras.preprocessing.image import ImageDataGenerator\n",
    "from datetime import datetime\n",
    "from tensorflow.keras.models import load_model"
   ]
  },
  {
   "cell_type": "markdown",
   "metadata": {},
   "source": [
    "# Downloading dataset"
   ]
  },
  {
   "cell_type": "code",
   "execution_count": 2,
   "metadata": {},
   "outputs": [],
   "source": [
    "if not os.path.exists('./datasets/best-artworks-of-all-time.zip'):\n",
    "    !wget https://bibview.ir/static/web/data/best-artworks-of-all-time.zip"
   ]
  },
  {
   "cell_type": "markdown",
   "metadata": {},
   "source": [
    "# Unzip files"
   ]
  },
  {
   "cell_type": "code",
   "execution_count": 3,
   "metadata": {
    "colab": {},
    "colab_type": "code",
    "id": "BRqAWVKIIi5O"
   },
   "outputs": [],
   "source": [
    "def extract_zip():\n",
    "    with zipfile.ZipFile('best-artworks-of-all-time.zip', 'r') as zip_ref:\n",
    "        zip_ref.extractall('./datasets/')"
   ]
  },
  {
   "cell_type": "code",
   "execution_count": 4,
   "metadata": {
    "colab": {},
    "colab_type": "code",
    "id": "JZlnHKiSKCDI"
   },
   "outputs": [],
   "source": [
    "if not os.path.exists('./datasets/best-artworks-of-all-time'):\n",
    "    extract_zip()"
   ]
  },
  {
   "cell_type": "markdown",
   "metadata": {},
   "source": [
    "# Defining Hyperparameters"
   ]
  },
  {
   "cell_type": "code",
   "execution_count": 24,
   "metadata": {},
   "outputs": [
    {
     "name": "stdout",
     "output_type": "stream",
     "text": [
      "Enter number of classes:(2 to 51)\n",
      "10\n"
     ]
    }
   ],
   "source": [
    "print(\"Enter number of classes:(2 to 51)\")\n",
    "NUM_CLASSES = int(input())\n",
    "\n",
    "IMG_WIDTH, IMG_HEIGHT = 250, 250\n",
    "\n",
    "POOLING_KERNEL_SIZE = 3\n",
    "\n",
    "num_epochs = 100\n",
    "\n",
    "TRAIN_TO_TEST_RATIO = 0.9"
   ]
  },
  {
   "cell_type": "markdown",
   "metadata": {},
   "source": [
    "# Reading Data Directory"
   ]
  },
  {
   "cell_type": "code",
   "execution_count": 25,
   "metadata": {
    "colab": {},
    "colab_type": "code",
    "id": "KzjQUvQQOs0s"
   },
   "outputs": [],
   "source": [
    "IMAGES_DIR = './datasets/best-artworks-of-all-time/images/images/'\n",
    "\n",
    "artists_dir = os.listdir(IMAGES_DIR)[:NUM_CLASSES]"
   ]
  },
  {
   "cell_type": "markdown",
   "metadata": {},
   "source": [
    "# Creating Train and Validation Directories\n",
    "* To work with data generators, it need data to be reached via related directory."
   ]
  },
  {
   "cell_type": "code",
   "execution_count": 8,
   "metadata": {
    "colab": {},
    "colab_type": "code",
    "id": "pf5sUz4vOyC7"
   },
   "outputs": [],
   "source": [
    "if NUM_CLASSES != 51:\n",
    "    if os.path.exists('./datasets/training-tmp/'):\n",
    "        os.rmdir('./datasets/training-tmp/')\n",
    "    if os.path.exists('./datasets/validation-tmp/'):\n",
    "        os.rmdir('./datasets/validation-tmp/')\n",
    "        \n",
    "    TRAIN_DIR = './datasets/training-tmp/'\n",
    "    VALIDATION_DIR = './datasets/validation-tmp/'\n",
    "    \n",
    "    os.mkdir(TRAIN_DIR)\n",
    "    os.mkdir(VALIDATION_DIR)\n",
    "else:\n",
    "    TRAIN_DIR = './datasets/training-all/'\n",
    "    VALIDATION_DIR = './datasets/validation-all/'"
   ]
  },
  {
   "cell_type": "markdown",
   "metadata": {},
   "source": [
    "# Seperate Train and Validation Data\n",
    "* This function reads all data and seperated it to train and validation set according to given `TRAIN_TO_TEST_RATIO`.\n",
    "\n",
    "* **Input**: Boolean print_info: printing info about each artist in images directory."
   ]
  },
  {
   "cell_type": "code",
   "execution_count": 9,
   "metadata": {
    "colab": {},
    "colab_type": "code",
    "id": "aUguCf3xPYVU"
   },
   "outputs": [],
   "source": [
    "def seperate_data_into_training_validation_for_each_artist(print_info=1):\n",
    "  for artist_dir in artists_dir:\n",
    "    artist_paintings = os.listdir(IMAGES_DIR + artist_dir)\n",
    "    number_of_seperation = math.floor(TRAIN_TO_TEST_RATIO * len(artist_paintings))\n",
    "    random.shuffle(artist_paintings)\n",
    "\n",
    "    artist_training_images = artist_paintings[:number_of_seperation]\n",
    "    artist_validation_images = artist_paintings[number_of_seperation:]\n",
    "    \n",
    "    if print_info:\n",
    "        print(\"Number of total images for %s: %d\" % (artist_dir, len(artist_paintings)))\n",
    "        print(\"Number of training images for %s: %d\" % (artist_dir, len(artist_training_images)))\n",
    "        print(\"Number of validation images for %s: %d\" % (artist_dir, len(artist_validation_images)))\n",
    "        print(\"------------------------------------------------\")\n",
    "    \n",
    "    if NUM_CLASSES != 51:\n",
    "        os.mkdir(TRAIN_DIR + '%s' % artist_dir)\n",
    "        os.mkdir(VALIDATION_DIR + '%s' % artist_dir)\n",
    "\n",
    "        for file in artist_training_images:\n",
    "          copyfile(IMAGES_DIR + '/%s/%s' % (artist_dir, file), TRAIN_DIR + '%s/%s' % (artist_dir, file))\n",
    "\n",
    "        for file in artist_validation_images:\n",
    "          copyfile(IMAGES_DIR + '/%s/%s' % (artist_dir, file), VALIDATION_DIR + '%s/%s' % (artist_dir, file))\n",
    "  return"
   ]
  },
  {
   "cell_type": "code",
   "execution_count": 10,
   "metadata": {},
   "outputs": [
    {
     "name": "stdout",
     "output_type": "stream",
     "text": [
      "Number of total images for Gustav_Klimt: 117\n",
      "Number of training images for Gustav_Klimt: 105\n",
      "Number of validation images for Gustav_Klimt: 12\n",
      "------------------------------------------------\n",
      "Number of total images for Paul_Cezanne: 47\n",
      "Number of training images for Paul_Cezanne: 42\n",
      "Number of validation images for Paul_Cezanne: 5\n",
      "------------------------------------------------\n",
      "Number of total images for Diego_Rivera: 70\n",
      "Number of training images for Diego_Rivera: 63\n",
      "Number of validation images for Diego_Rivera: 7\n",
      "------------------------------------------------\n",
      "Number of total images for Mikhail_Vrubel: 171\n",
      "Number of training images for Mikhail_Vrubel: 153\n",
      "Number of validation images for Mikhail_Vrubel: 18\n",
      "------------------------------------------------\n",
      "Number of total images for Vincent_van_Gogh: 877\n",
      "Number of training images for Vincent_van_Gogh: 789\n",
      "Number of validation images for Vincent_van_Gogh: 88\n",
      "------------------------------------------------\n",
      "Number of total images for Paul_Klee: 188\n",
      "Number of training images for Paul_Klee: 169\n",
      "Number of validation images for Paul_Klee: 19\n",
      "------------------------------------------------\n",
      "Number of total images for Pablo_Picasso: 439\n",
      "Number of training images for Pablo_Picasso: 395\n",
      "Number of validation images for Pablo_Picasso: 44\n",
      "------------------------------------------------\n",
      "Number of total images for Hieronymus_Bosch: 137\n",
      "Number of training images for Hieronymus_Bosch: 123\n",
      "Number of validation images for Hieronymus_Bosch: 14\n",
      "------------------------------------------------\n",
      "Number of total images for Claude_Monet: 73\n",
      "Number of training images for Claude_Monet: 65\n",
      "Number of validation images for Claude_Monet: 8\n",
      "------------------------------------------------\n",
      "Number of total images for Jan_van_Eyck: 81\n",
      "Number of training images for Jan_van_Eyck: 72\n",
      "Number of validation images for Jan_van_Eyck: 9\n",
      "------------------------------------------------\n"
     ]
    }
   ],
   "source": [
    "seperate_data_into_training_validation_for_each_artist(print_info=1)"
   ]
  },
  {
   "cell_type": "markdown",
   "metadata": {},
   "source": [
    "# Defining Sequential Model"
   ]
  },
  {
   "cell_type": "code",
   "execution_count": 26,
   "metadata": {
    "colab": {
     "base_uri": "https://localhost:8080/",
     "height": 469
    },
    "colab_type": "code",
    "id": "4T1tKKwWP3GN",
    "outputId": "043935d3-6ce4-40d0-9c4e-cfd083222a25"
   },
   "outputs": [
    {
     "name": "stdout",
     "output_type": "stream",
     "text": [
      "_________________________________________________________________\n",
      "Layer (type)                 Output Shape              Param #   \n",
      "=================================================================\n",
      "conv2d_3 (Conv2D)            (None, 248, 248, 16)      448       \n",
      "_________________________________________________________________\n",
      "max_pooling2d_3 (MaxPooling2 (None, 82, 82, 16)        0         \n",
      "_________________________________________________________________\n",
      "conv2d_4 (Conv2D)            (None, 80, 80, 32)        4640      \n",
      "_________________________________________________________________\n",
      "max_pooling2d_4 (MaxPooling2 (None, 26, 26, 32)        0         \n",
      "_________________________________________________________________\n",
      "conv2d_5 (Conv2D)            (None, 24, 24, 64)        18496     \n",
      "_________________________________________________________________\n",
      "max_pooling2d_5 (MaxPooling2 (None, 8, 8, 64)          0         \n",
      "_________________________________________________________________\n",
      "flatten_1 (Flatten)          (None, 4096)              0         \n",
      "_________________________________________________________________\n",
      "dense_2 (Dense)              (None, 512)               2097664   \n",
      "_________________________________________________________________\n",
      "dense_3 (Dense)              (None, 10)                5130      \n",
      "=================================================================\n",
      "Total params: 2,126,378\n",
      "Trainable params: 2,126,378\n",
      "Non-trainable params: 0\n",
      "_________________________________________________________________\n"
     ]
    }
   ],
   "source": [
    "model = tf.keras.models.Sequential([\n",
    "    tf.keras.layers.Conv2D(16, (3, 3), activation='relu', input_shape=(IMG_WIDTH, IMG_HEIGHT, 3)),\n",
    "    tf.keras.layers.MaxPooling2D(POOLING_KERNEL_SIZE, POOLING_KERNEL_SIZE),\n",
    "    tf.keras.layers.Conv2D(32, (3, 3), activation='relu'),\n",
    "    tf.keras.layers.MaxPooling2D(POOLING_KERNEL_SIZE, POOLING_KERNEL_SIZE),\n",
    "    tf.keras.layers.Conv2D(64, (3, 3), activation='relu'),\n",
    "    tf.keras.layers.MaxPooling2D(POOLING_KERNEL_SIZE, POOLING_KERNEL_SIZE),\n",
    "    tf.keras.layers.Flatten(),\n",
    "    tf.keras.layers.Dense(512, activation='relu'),\n",
    "    tf.keras.layers.Dense(NUM_CLASSES, activation='softmax')\n",
    "])\n",
    "\n",
    "model.compile(optimizer=RMSprop(lr=0.001), loss='categorical_crossentropy', metrics=['acc'])\n",
    "\n",
    "model.summary()"
   ]
  },
  {
   "cell_type": "code",
   "execution_count": 27,
   "metadata": {
    "colab": {
     "base_uri": "https://localhost:8080/",
     "height": 34
    },
    "colab_type": "code",
    "id": "hEJWZjnlXnLi",
    "outputId": "0c18f778-eb7c-4dcc-c601-93dfd33076eb"
   },
   "outputs": [
    {
     "name": "stdout",
     "output_type": "stream",
     "text": [
      "Found 1976 images belonging to 10 classes.\n"
     ]
    }
   ],
   "source": [
    "train_datagen = ImageDataGenerator(rescale=1./255,\n",
    "                                  rotation_range=40,\n",
    "                                  width_shift_range=0.2,\n",
    "                                  height_shift_range=0.2,\n",
    "                                  shear_range=0.2,\n",
    "                                  zoom_range=0.2,\n",
    "                                  horizontal_flip=True,\n",
    "                                  fill_mode='nearest')\n",
    "\n",
    "train_generator = train_datagen.flow_from_directory(TRAIN_DIR,\n",
    "                                                    batch_size=100,\n",
    "                                                    class_mode='categorical',\n",
    "                                                    target_size=(IMG_WIDTH, IMG_HEIGHT))"
   ]
  },
  {
   "cell_type": "code",
   "execution_count": 28,
   "metadata": {
    "colab": {
     "base_uri": "https://localhost:8080/",
     "height": 34
    },
    "colab_type": "code",
    "id": "jU1b08PsYrKp",
    "outputId": "baac8891-c6e2-40f3-b0b2-ea4555fbd3c8"
   },
   "outputs": [
    {
     "name": "stdout",
     "output_type": "stream",
     "text": [
      "Found 224 images belonging to 10 classes.\n"
     ]
    }
   ],
   "source": [
    "validation_datagen = ImageDataGenerator(rescale=1./255,\n",
    "                                        rotation_range=40,\n",
    "                                        width_shift_range=0.3, \n",
    "                                        height_shift_range=0.2,\n",
    "                                        shear_range=0.2,\n",
    "                                        zoom_range=0.2,\n",
    "                                        horizontal_flip=True,\n",
    "                                        fill_mode='nearest')\n",
    "\n",
    "validation_generator = validation_datagen.flow_from_directory(VALIDATION_DIR,\n",
    "                                                              batch_size=100,\n",
    "                                                              class_mode='categorical',\n",
    "                                                              target_size=(IMG_WIDTH, IMG_HEIGHT))"
   ]
  },
  {
   "cell_type": "code",
   "execution_count": 29,
   "metadata": {},
   "outputs": [
    {
     "name": "stdout",
     "output_type": "stream",
     "text": [
      "The tensorboard extension is already loaded. To reload it, use:\n",
      "  %reload_ext tensorboard\n"
     ]
    }
   ],
   "source": [
    "%load_ext tensorboard\n",
    "\n",
    "logdir = \"logs/scalars/\" + datetime.now().strftime(\"%Y%m%d-%H%M%S\")\n",
    "tensorboard_callback = tf.keras.callbacks.TensorBoard(log_dir=logdir)"
   ]
  },
  {
   "cell_type": "code",
   "execution_count": null,
   "metadata": {
    "colab": {
     "base_uri": "https://localhost:8080/",
     "height": 208
    },
    "colab_type": "code",
    "id": "PwC3qk0rZaaz",
    "outputId": "0d68ee4d-9022-45cf-f6a5-2e225dc208ca"
   },
   "outputs": [
    {
     "data": {
      "text/plain": [
       "Reusing TensorBoard on port 6006 (pid 10974), started 0:02:42 ago. (Use '!kill 10974' to kill it.)"
      ]
     },
     "metadata": {},
     "output_type": "display_data"
    },
    {
     "data": {
      "text/html": [
       "\n",
       "        <iframe\n",
       "            width=\"100%\"\n",
       "            height=\"800\"\n",
       "            src=\"http://localhost:6006\"\n",
       "            frameborder=\"0\"\n",
       "            allowfullscreen\n",
       "        ></iframe>\n",
       "        "
      ],
      "text/plain": [
       "<IPython.lib.display.IFrame at 0x7f4e410010f0>"
      ]
     },
     "metadata": {},
     "output_type": "display_data"
    },
    {
     "name": "stdout",
     "output_type": "stream",
     "text": [
      "WARNING:tensorflow:From /usr/local/lib/python3.6/dist-packages/tensorflow/python/ops/math_ops.py:3066: to_int32 (from tensorflow.python.ops.math_ops) is deprecated and will be removed in a future version.\n",
      "Instructions for updating:\n",
      "Use tf.cast instead.\n",
      "Epoch 1/100\n",
      "3/3 [==============================] - 4s 1s/step - loss: 1.9377 - acc: 0.3929\n",
      "20/20 [==============================] - 39s 2s/step - loss: 1.9556 - acc: 0.3365 - val_loss: 1.9377 - val_acc: 0.3929\n",
      "Epoch 2/100\n",
      "3/3 [==============================] - 5s 2s/step - loss: 1.9203 - acc: 0.3929\n",
      "20/20 [==============================] - 35s 2s/step - loss: 1.7860 - acc: 0.3973 - val_loss: 1.9203 - val_acc: 0.3929\n",
      "Epoch 3/100\n",
      "3/3 [==============================] - 4s 1s/step - loss: 1.7323 - acc: 0.3929\n",
      "20/20 [==============================] - 36s 2s/step - loss: 1.7422 - acc: 0.3841 - val_loss: 1.7323 - val_acc: 0.3929\n",
      "Epoch 4/100\n",
      "3/3 [==============================] - 4s 1s/step - loss: 1.7292 - acc: 0.3929\n",
      "20/20 [==============================] - 34s 2s/step - loss: 1.7028 - acc: 0.4028 - val_loss: 1.7292 - val_acc: 0.3929\n",
      "Epoch 5/100\n",
      "3/3 [==============================] - 4s 1s/step - loss: 1.5867 - acc: 0.4062\n",
      "20/20 [==============================] - 34s 2s/step - loss: 1.6813 - acc: 0.3983 - val_loss: 1.5867 - val_acc: 0.4062\n",
      "Epoch 6/100\n",
      "3/3 [==============================] - 4s 1s/step - loss: 1.5119 - acc: 0.4241\n",
      "20/20 [==============================] - 36s 2s/step - loss: 1.6507 - acc: 0.4023 - val_loss: 1.5119 - val_acc: 0.4241\n",
      "Epoch 7/100\n",
      "3/3 [==============================] - 4s 1s/step - loss: 1.9662 - acc: 0.2277\n",
      "20/20 [==============================] - 33s 2s/step - loss: 1.6180 - acc: 0.4332 - val_loss: 1.9662 - val_acc: 0.2277\n",
      "Epoch 8/100\n",
      "3/3 [==============================] - 4s 1s/step - loss: 1.4775 - acc: 0.4375\n",
      "20/20 [==============================] - 36s 2s/step - loss: 1.6050 - acc: 0.4231 - val_loss: 1.4775 - val_acc: 0.4375\n",
      "Epoch 9/100\n",
      "3/3 [==============================] - 4s 1s/step - loss: 1.6244 - acc: 0.4152\n",
      "20/20 [==============================] - 33s 2s/step - loss: 1.5899 - acc: 0.4322 - val_loss: 1.6244 - val_acc: 0.4152\n",
      "Epoch 10/100\n",
      "3/3 [==============================] - 4s 1s/step - loss: 1.7022 - acc: 0.4286\n",
      "20/20 [==============================] - 33s 2s/step - loss: 1.5615 - acc: 0.4342 - val_loss: 1.7022 - val_acc: 0.4286\n",
      "Epoch 11/100\n",
      "3/3 [==============================] - 4s 1s/step - loss: 1.5627 - acc: 0.4777\n",
      "20/20 [==============================] - 32s 2s/step - loss: 1.5700 - acc: 0.4388 - val_loss: 1.5627 - val_acc: 0.4777\n",
      "Epoch 12/100\n",
      "3/3 [==============================] - 4s 1s/step - loss: 1.7106 - acc: 0.4196\n",
      "20/20 [==============================] - 34s 2s/step - loss: 1.5368 - acc: 0.4469 - val_loss: 1.7106 - val_acc: 0.4196\n",
      "Epoch 13/100\n",
      "3/3 [==============================] - 4s 1s/step - loss: 1.4916 - acc: 0.4688\n",
      "20/20 [==============================] - 35s 2s/step - loss: 1.5059 - acc: 0.4580 - val_loss: 1.4916 - val_acc: 0.4688\n",
      "Epoch 14/100\n",
      "3/3 [==============================] - 4s 1s/step - loss: 1.4748 - acc: 0.4777\n",
      "20/20 [==============================] - 34s 2s/step - loss: 1.4840 - acc: 0.4661 - val_loss: 1.4748 - val_acc: 0.4777\n",
      "Epoch 15/100\n",
      "3/3 [==============================] - 4s 1s/step - loss: 1.5397 - acc: 0.4777\n",
      "20/20 [==============================] - 35s 2s/step - loss: 1.4530 - acc: 0.4671 - val_loss: 1.5397 - val_acc: 0.4777\n",
      "Epoch 16/100\n",
      "3/3 [==============================] - 4s 1s/step - loss: 1.4047 - acc: 0.4911\n",
      "20/20 [==============================] - 31s 2s/step - loss: 1.4297 - acc: 0.4813 - val_loss: 1.4047 - val_acc: 0.4911\n",
      "Epoch 17/100\n",
      "3/3 [==============================] - 4s 1s/step - loss: 1.6764 - acc: 0.3705\n",
      "20/20 [==============================] - 32s 2s/step - loss: 1.4095 - acc: 0.4939 - val_loss: 1.6764 - val_acc: 0.3705\n",
      "Epoch 18/100\n",
      "3/3 [==============================] - 4s 1s/step - loss: 1.5059 - acc: 0.5268\n",
      "20/20 [==============================] - 33s 2s/step - loss: 1.4206 - acc: 0.4863 - val_loss: 1.5059 - val_acc: 0.5268\n",
      "Epoch 19/100\n",
      "3/3 [==============================] - 4s 1s/step - loss: 1.3398 - acc: 0.5223\n",
      "20/20 [==============================] - 33s 2s/step - loss: 1.3961 - acc: 0.5015 - val_loss: 1.3398 - val_acc: 0.5223\n",
      "Epoch 20/100\n",
      "3/3 [==============================] - 4s 1s/step - loss: 1.5218 - acc: 0.4464\n",
      "20/20 [==============================] - 32s 2s/step - loss: 1.3875 - acc: 0.5076 - val_loss: 1.5218 - val_acc: 0.4464\n",
      "Epoch 21/100\n",
      "3/3 [==============================] - 4s 1s/step - loss: 1.2604 - acc: 0.5625\n",
      "20/20 [==============================] - 33s 2s/step - loss: 1.3286 - acc: 0.5253 - val_loss: 1.2604 - val_acc: 0.5625\n",
      "Epoch 22/100\n",
      "3/3 [==============================] - 4s 1s/step - loss: 1.3465 - acc: 0.5045\n",
      "20/20 [==============================] - 33s 2s/step - loss: 1.3561 - acc: 0.5177 - val_loss: 1.3465 - val_acc: 0.5045\n",
      "Epoch 23/100\n",
      "3/3 [==============================] - 4s 1s/step - loss: 1.3626 - acc: 0.5045\n",
      "20/20 [==============================] - 33s 2s/step - loss: 1.3094 - acc: 0.5304 - val_loss: 1.3626 - val_acc: 0.5045\n",
      "Epoch 24/100\n",
      "3/3 [==============================] - 4s 1s/step - loss: 1.3162 - acc: 0.5312\n",
      "20/20 [==============================] - 32s 2s/step - loss: 1.2973 - acc: 0.5319 - val_loss: 1.3162 - val_acc: 0.5312\n",
      "Epoch 25/100\n",
      "3/3 [==============================] - 4s 1s/step - loss: 1.2846 - acc: 0.5357\n",
      "20/20 [==============================] - 32s 2s/step - loss: 1.2989 - acc: 0.5476 - val_loss: 1.2846 - val_acc: 0.5357\n",
      "Epoch 26/100\n",
      "3/3 [==============================] - 4s 1s/step - loss: 1.5396 - acc: 0.4598\n",
      "20/20 [==============================] - 32s 2s/step - loss: 1.2832 - acc: 0.5526 - val_loss: 1.5396 - val_acc: 0.4598\n",
      "Epoch 27/100\n",
      "3/3 [==============================] - 4s 1s/step - loss: 1.4104 - acc: 0.5223\n",
      "20/20 [==============================] - 32s 2s/step - loss: 1.2531 - acc: 0.5562 - val_loss: 1.4104 - val_acc: 0.5223\n",
      "Epoch 28/100\n",
      "3/3 [==============================] - 4s 1s/step - loss: 1.4005 - acc: 0.5000\n",
      "20/20 [==============================] - 32s 2s/step - loss: 1.2733 - acc: 0.5349 - val_loss: 1.4005 - val_acc: 0.5000\n",
      "Epoch 29/100\n",
      "3/3 [==============================] - 4s 1s/step - loss: 1.3835 - acc: 0.5179\n",
      "20/20 [==============================] - 32s 2s/step - loss: 1.2572 - acc: 0.5541 - val_loss: 1.3835 - val_acc: 0.5179\n",
      "Epoch 30/100\n",
      "3/3 [==============================] - 4s 1s/step - loss: 1.4808 - acc: 0.4598\n",
      "20/20 [==============================] - 32s 2s/step - loss: 1.2013 - acc: 0.5557 - val_loss: 1.4808 - val_acc: 0.4598\n",
      "Epoch 31/100\n",
      "3/3 [==============================] - 4s 1s/step - loss: 1.2943 - acc: 0.5179\n",
      "20/20 [==============================] - 32s 2s/step - loss: 1.2239 - acc: 0.5577 - val_loss: 1.2943 - val_acc: 0.5179\n",
      "Epoch 32/100\n",
      "3/3 [==============================] - 4s 1s/step - loss: 1.3401 - acc: 0.5312\n",
      "20/20 [==============================] - 32s 2s/step - loss: 1.1858 - acc: 0.5693 - val_loss: 1.3401 - val_acc: 0.5312\n",
      "Epoch 33/100\n",
      "3/3 [==============================] - 4s 1s/step - loss: 1.2621 - acc: 0.5625\n",
      "20/20 [==============================] - 32s 2s/step - loss: 1.2132 - acc: 0.5673 - val_loss: 1.2621 - val_acc: 0.5625\n",
      "Epoch 34/100\n",
      "3/3 [==============================] - 4s 1s/step - loss: 1.3620 - acc: 0.5536\n",
      "20/20 [==============================] - 32s 2s/step - loss: 1.1747 - acc: 0.5754 - val_loss: 1.3620 - val_acc: 0.5536\n",
      "Epoch 35/100\n",
      "3/3 [==============================] - 4s 1s/step - loss: 1.3154 - acc: 0.5312\n",
      "20/20 [==============================] - 32s 2s/step - loss: 1.1872 - acc: 0.5774 - val_loss: 1.3154 - val_acc: 0.5312\n",
      "Epoch 36/100\n",
      "3/3 [==============================] - 4s 1s/step - loss: 1.2574 - acc: 0.5491\n",
      "20/20 [==============================] - 32s 2s/step - loss: 1.1993 - acc: 0.5622 - val_loss: 1.2574 - val_acc: 0.5491\n",
      "Epoch 37/100\n",
      "3/3 [==============================] - 4s 1s/step - loss: 1.1887 - acc: 0.5625\n",
      "20/20 [==============================] - 32s 2s/step - loss: 1.1356 - acc: 0.5916 - val_loss: 1.1887 - val_acc: 0.5625\n",
      "Epoch 38/100\n",
      "3/3 [==============================] - 4s 1s/step - loss: 1.1594 - acc: 0.5714\n",
      "20/20 [==============================] - 32s 2s/step - loss: 1.1497 - acc: 0.5926 - val_loss: 1.1594 - val_acc: 0.5714\n"
     ]
    },
    {
     "name": "stdout",
     "output_type": "stream",
     "text": [
      "Epoch 39/100\n",
      "3/3 [==============================] - 4s 1s/step - loss: 1.2931 - acc: 0.5268\n",
      "20/20 [==============================] - 33s 2s/step - loss: 1.1340 - acc: 0.5967 - val_loss: 1.2931 - val_acc: 0.5268\n",
      "Epoch 40/100\n",
      "3/3 [==============================] - 4s 1s/step - loss: 1.2194 - acc: 0.5536\n",
      "20/20 [==============================] - 32s 2s/step - loss: 1.1153 - acc: 0.5860 - val_loss: 1.2194 - val_acc: 0.5536\n",
      "Epoch 41/100\n",
      "3/3 [==============================] - 4s 1s/step - loss: 1.3931 - acc: 0.5134\n",
      "20/20 [==============================] - 32s 2s/step - loss: 1.1142 - acc: 0.6048 - val_loss: 1.3931 - val_acc: 0.5134\n",
      "Epoch 42/100\n",
      "3/3 [==============================] - 4s 1s/step - loss: 1.3136 - acc: 0.5402\n",
      "20/20 [==============================] - 32s 2s/step - loss: 1.1023 - acc: 0.6103 - val_loss: 1.3136 - val_acc: 0.5402\n",
      "Epoch 43/100\n",
      "3/3 [==============================] - 4s 1s/step - loss: 1.3070 - acc: 0.5759\n",
      "20/20 [==============================] - 32s 2s/step - loss: 1.1070 - acc: 0.5946 - val_loss: 1.3070 - val_acc: 0.5759\n",
      "Epoch 44/100\n",
      "3/3 [==============================] - 4s 1s/step - loss: 1.2616 - acc: 0.5670\n",
      "20/20 [==============================] - 32s 2s/step - loss: 1.0801 - acc: 0.6174 - val_loss: 1.2616 - val_acc: 0.5670\n",
      "Epoch 45/100\n",
      "3/3 [==============================] - 4s 1s/step - loss: 1.2957 - acc: 0.5268\n",
      "20/20 [==============================] - 32s 2s/step - loss: 1.0708 - acc: 0.6270 - val_loss: 1.2957 - val_acc: 0.5268\n",
      "Epoch 46/100\n",
      "3/3 [==============================] - 4s 1s/step - loss: 1.3176 - acc: 0.5491\n",
      "20/20 [==============================] - 32s 2s/step - loss: 1.0655 - acc: 0.6189 - val_loss: 1.3176 - val_acc: 0.5491\n",
      "Epoch 47/100\n",
      "3/3 [==============================] - 4s 1s/step - loss: 1.3000 - acc: 0.5759\n",
      "20/20 [==============================] - 32s 2s/step - loss: 1.0947 - acc: 0.5956 - val_loss: 1.3000 - val_acc: 0.5759\n",
      "Epoch 48/100\n",
      "3/3 [==============================] - 4s 1s/step - loss: 1.3301 - acc: 0.5670\n",
      "20/20 [==============================] - 32s 2s/step - loss: 1.0309 - acc: 0.6306 - val_loss: 1.3301 - val_acc: 0.5670\n",
      "Epoch 49/100\n",
      "3/3 [==============================] - 4s 1s/step - loss: 1.2575 - acc: 0.5536\n",
      "20/20 [==============================] - 35s 2s/step - loss: 1.0439 - acc: 0.6301 - val_loss: 1.2575 - val_acc: 0.5536\n",
      "Epoch 50/100\n",
      "3/3 [==============================] - 4s 1s/step - loss: 1.3377 - acc: 0.5804\n",
      "20/20 [==============================] - 36s 2s/step - loss: 1.0254 - acc: 0.6306 - val_loss: 1.3377 - val_acc: 0.5804\n",
      "Epoch 51/100\n",
      "3/3 [==============================] - 4s 1s/step - loss: 1.1536 - acc: 0.5982\n",
      "20/20 [==============================] - 33s 2s/step - loss: 1.0254 - acc: 0.6452 - val_loss: 1.1536 - val_acc: 0.5982\n",
      "Epoch 52/100\n",
      "3/3 [==============================] - 4s 1s/step - loss: 1.4327 - acc: 0.5536\n",
      "20/20 [==============================] - 35s 2s/step - loss: 0.9950 - acc: 0.6351 - val_loss: 1.4327 - val_acc: 0.5536\n",
      "Epoch 53/100\n",
      "3/3 [==============================] - 5s 2s/step - loss: 1.3777 - acc: 0.5357\n",
      "20/20 [==============================] - 37s 2s/step - loss: 1.0010 - acc: 0.6321 - val_loss: 1.3777 - val_acc: 0.5357\n",
      "Epoch 54/100\n",
      "3/3 [==============================] - 5s 2s/step - loss: 1.3073 - acc: 0.5402\n",
      "20/20 [==============================] - 38s 2s/step - loss: 1.0129 - acc: 0.6301 - val_loss: 1.3073 - val_acc: 0.5402\n",
      "Epoch 55/100\n",
      "3/3 [==============================] - 4s 1s/step - loss: 1.3630 - acc: 0.5312\n",
      "20/20 [==============================] - 36s 2s/step - loss: 0.9926 - acc: 0.6306 - val_loss: 1.3630 - val_acc: 0.5312\n",
      "Epoch 56/100\n",
      "3/3 [==============================] - 4s 1s/step - loss: 1.4570 - acc: 0.5670\n",
      "20/20 [==============================] - 33s 2s/step - loss: 0.9725 - acc: 0.6483 - val_loss: 1.4570 - val_acc: 0.5670\n",
      "Epoch 57/100\n",
      "3/3 [==============================] - 4s 1s/step - loss: 1.3472 - acc: 0.5179\n",
      "20/20 [==============================] - 32s 2s/step - loss: 0.9611 - acc: 0.6569 - val_loss: 1.3472 - val_acc: 0.5179\n",
      "Epoch 58/100\n",
      "3/3 [==============================] - 4s 1s/step - loss: 1.2557 - acc: 0.5402\n",
      "20/20 [==============================] - 32s 2s/step - loss: 0.9460 - acc: 0.6422 - val_loss: 1.2557 - val_acc: 0.5402\n",
      "Epoch 59/100\n",
      "3/3 [==============================] - 4s 1s/step - loss: 1.4662 - acc: 0.5134\n",
      "20/20 [==============================] - 32s 2s/step - loss: 0.9430 - acc: 0.6599 - val_loss: 1.4662 - val_acc: 0.5134\n",
      "Epoch 60/100\n",
      "3/3 [==============================] - 4s 1s/step - loss: 1.3808 - acc: 0.5402\n",
      "20/20 [==============================] - 32s 2s/step - loss: 0.9429 - acc: 0.6574 - val_loss: 1.3808 - val_acc: 0.5402\n",
      "Epoch 61/100\n",
      "3/3 [==============================] - 4s 1s/step - loss: 1.2616 - acc: 0.6116\n",
      "20/20 [==============================] - 32s 2s/step - loss: 0.9485 - acc: 0.6523 - val_loss: 1.2616 - val_acc: 0.6116\n",
      "Epoch 62/100\n",
      "3/3 [==============================] - 4s 1s/step - loss: 1.4700 - acc: 0.5089\n",
      "20/20 [==============================] - 32s 2s/step - loss: 0.8939 - acc: 0.6721 - val_loss: 1.4700 - val_acc: 0.5089\n",
      "Epoch 63/100\n",
      "3/3 [==============================] - 4s 1s/step - loss: 1.3268 - acc: 0.5893\n",
      "20/20 [==============================] - 32s 2s/step - loss: 0.9239 - acc: 0.6635 - val_loss: 1.3268 - val_acc: 0.5893\n",
      "Epoch 64/100\n",
      "3/3 [==============================] - 4s 1s/step - loss: 1.3383 - acc: 0.5714\n",
      "20/20 [==============================] - 32s 2s/step - loss: 0.8878 - acc: 0.6817 - val_loss: 1.3383 - val_acc: 0.5714\n",
      "Epoch 65/100\n",
      "3/3 [==============================] - 4s 1s/step - loss: 1.4684 - acc: 0.5491\n",
      "20/20 [==============================] - 33s 2s/step - loss: 0.8944 - acc: 0.6721 - val_loss: 1.4684 - val_acc: 0.5491\n",
      "Epoch 66/100\n",
      "3/3 [==============================] - 4s 1s/step - loss: 1.3665 - acc: 0.5536\n",
      "20/20 [==============================] - 32s 2s/step - loss: 0.8679 - acc: 0.6969 - val_loss: 1.3665 - val_acc: 0.5536\n",
      "Epoch 67/100\n",
      "3/3 [==============================] - 4s 1s/step - loss: 1.3474 - acc: 0.5625\n",
      "20/20 [==============================] - 32s 2s/step - loss: 0.9001 - acc: 0.6655 - val_loss: 1.3474 - val_acc: 0.5625\n",
      "Epoch 68/100\n",
      "3/3 [==============================] - 4s 1s/step - loss: 1.2725 - acc: 0.5580\n",
      "20/20 [==============================] - 32s 2s/step - loss: 0.9029 - acc: 0.6756 - val_loss: 1.2725 - val_acc: 0.5580\n",
      "Epoch 69/100\n",
      "3/3 [==============================] - 4s 1s/step - loss: 1.0700 - acc: 0.5982\n",
      "20/20 [==============================] - 32s 2s/step - loss: 0.8568 - acc: 0.6933 - val_loss: 1.0700 - val_acc: 0.5982\n",
      "Epoch 70/100\n",
      "3/3 [==============================] - 4s 1s/step - loss: 1.2234 - acc: 0.5982\n",
      "20/20 [==============================] - 32s 2s/step - loss: 0.8638 - acc: 0.6979 - val_loss: 1.2234 - val_acc: 0.5982\n",
      "Epoch 71/100\n",
      "3/3 [==============================] - 4s 1s/step - loss: 1.0964 - acc: 0.5982\n",
      "20/20 [==============================] - 32s 2s/step - loss: 0.8214 - acc: 0.6928 - val_loss: 1.0964 - val_acc: 0.5982\n",
      "Epoch 72/100\n",
      "3/3 [==============================] - 4s 1s/step - loss: 1.1706 - acc: 0.5670\n",
      "20/20 [==============================] - 32s 2s/step - loss: 0.8486 - acc: 0.6994 - val_loss: 1.1706 - val_acc: 0.5670\n",
      "Epoch 73/100\n",
      "3/3 [==============================] - 4s 1s/step - loss: 1.2087 - acc: 0.5848\n",
      "20/20 [==============================] - 32s 2s/step - loss: 0.8361 - acc: 0.6888 - val_loss: 1.2087 - val_acc: 0.5848\n",
      "Epoch 74/100\n",
      "3/3 [==============================] - 4s 1s/step - loss: 1.3709 - acc: 0.5357\n",
      "20/20 [==============================] - 32s 2s/step - loss: 0.8032 - acc: 0.7105 - val_loss: 1.3709 - val_acc: 0.5357\n",
      "Epoch 75/100\n",
      " 9/20 [============>.................] - ETA: 13s - loss: 0.8393 - acc: 0.6895"
     ]
    }
   ],
   "source": [
    "%tensorboard --logdir logs/scalars\n",
    "history = model.fit_generator(train_generator,\n",
    "                              epochs=num_epochs,\n",
    "                              verbose=1,\n",
    "                              validation_data=validation_generator,\n",
    "                              callbacks=[tensorboard_callback])"
   ]
  },
  {
   "cell_type": "code",
   "execution_count": null,
   "metadata": {},
   "outputs": [],
   "source": []
  },
  {
   "cell_type": "code",
   "execution_count": 40,
   "metadata": {
    "colab": {},
    "colab_type": "code",
    "id": "IbzL8bBSZlgq"
   },
   "outputs": [],
   "source": [
    "def plot_history(history):\n",
    "    %matplotlib inline\n",
    "\n",
    "    acc=history.history['acc']\n",
    "    val_acc=history.history['val_acc']\n",
    "    loss=history.history['loss']\n",
    "    val_loss=history.history['val_loss']\n",
    "\n",
    "    epochs=range(len(acc)) \n",
    "\n",
    "    plt.plot(epochs, acc, 'r', \"Training Accuracy\")\n",
    "    plt.plot(epochs, val_acc, 'b', \"Validation Accuracy\")\n",
    "    plt.title('Training and validation accuracy')\n",
    "\n",
    "    if not os.path.exists(ACC_PLOT_DIR):\n",
    "        plt.savefig(ACC_PLOT_DIR)\n",
    "        print(\"Accuracy plot %s saved.\" % ACC_PLOT_NAME)\n",
    "    else:\n",
    "        print(\"Accuracy plot %s already exists in directory.\" % ACC_PLOT_NAME)\n",
    "    plt.figure()\n",
    "\n",
    "    plt.plot(epochs, loss, 'r', \"Training Loss\")\n",
    "    plt.plot(epochs, val_loss, 'b', \"Validation Loss\")\n",
    "\n",
    "    if not os.path.exists(LOSS_PLOT_DIR):\n",
    "        plt.savefig(LOSS_PLOT_DIR)\n",
    "        print(\"Loss plot %s saved\" % LOSS_PLOT_NAME)\n",
    "    else:\n",
    "        print(\"Loss plot %s already exists in directory.\" % LOSS_PLOT_NAME)\n",
    "    plt.figure()\n",
    "\n",
    "    ACC_PLOT_NAME = '%s_classes_%s_epochs_%.4f_%.4f.png' % (NUM_CLASSES, num_epochs, acc[-1], val_acc[-1])\n",
    "    LOSS_PLOT_NAME = '%s_classes_%s_epochs_%.4f_%.4f.png' % (NUM_CLASSES, num_epochs, loss[-1], val_loss[-1])\n",
    "\n",
    "    ACC_PLOT_DIR = os.path.join('./plots/acc/', ACC_PLOT_NAME) \n",
    "    LOSS_PLOT_DIR = os.path.join('./plots/loss/', LOSS_PLOT_NAME)\n",
    "    return"
   ]
  },
  {
   "cell_type": "code",
   "execution_count": null,
   "metadata": {},
   "outputs": [],
   "source": [
    "# plot_history(history)"
   ]
  },
  {
   "cell_type": "code",
   "execution_count": null,
   "metadata": {},
   "outputs": [],
   "source": [
    "if NUM_CLASSES != 51:\n",
    "    shutil.rmtree(TRAIN_DIR, ignore_errors=True)\n",
    "    shutil.rmtree(VALIDATION_DIR, ignore_errors=True)"
   ]
  },
  {
   "cell_type": "code",
   "execution_count": null,
   "metadata": {},
   "outputs": [],
   "source": [
    "model.save('./model/model_%s_classes_%s_epochs_%.4f_%.4f.h5' % (NUM_CLASSES, num_epochs, acc[-1], val_acc[-1]))"
   ]
  },
  {
   "cell_type": "code",
   "execution_count": 30,
   "metadata": {},
   "outputs": [],
   "source": [
    "model = load_model('./model/model_10_classes_100_0.8512_0.6205.h5')"
   ]
  },
  {
   "cell_type": "code",
   "execution_count": 31,
   "metadata": {},
   "outputs": [
    {
     "name": "stdout",
     "output_type": "stream",
     "text": [
      "_________________________________________________________________\n",
      "Layer (type)                 Output Shape              Param #   \n",
      "=================================================================\n",
      "conv2d_3 (Conv2D)            (None, 248, 248, 16)      448       \n",
      "_________________________________________________________________\n",
      "max_pooling2d_3 (MaxPooling2 (None, 82, 82, 16)        0         \n",
      "_________________________________________________________________\n",
      "conv2d_4 (Conv2D)            (None, 80, 80, 32)        4640      \n",
      "_________________________________________________________________\n",
      "max_pooling2d_4 (MaxPooling2 (None, 26, 26, 32)        0         \n",
      "_________________________________________________________________\n",
      "conv2d_5 (Conv2D)            (None, 24, 24, 64)        18496     \n",
      "_________________________________________________________________\n",
      "max_pooling2d_5 (MaxPooling2 (None, 8, 8, 64)          0         \n",
      "_________________________________________________________________\n",
      "flatten_1 (Flatten)          (None, 4096)              0         \n",
      "_________________________________________________________________\n",
      "dense_2 (Dense)              (None, 512)               2097664   \n",
      "_________________________________________________________________\n",
      "dense_3 (Dense)              (None, 10)                5130      \n",
      "=================================================================\n",
      "Total params: 2,126,378\n",
      "Trainable params: 2,126,378\n",
      "Non-trainable params: 0\n",
      "_________________________________________________________________\n"
     ]
    }
   ],
   "source": [
    "model.summary()"
   ]
  },
  {
   "cell_type": "code",
   "execution_count": 35,
   "metadata": {},
   "outputs": [],
   "source": [
    "out = model.evaluate_generator(validation_generator)"
   ]
  },
  {
   "cell_type": "code",
   "execution_count": 38,
   "metadata": {},
   "outputs": [
    {
     "name": "stdout",
     "output_type": "stream",
     "text": [
      "loss over test data generator:  0.6797053416570028\n",
      "acc over test data generator:  0.7901786\n"
     ]
    }
   ],
   "source": [
    "model.metrics_names\n",
    "print(model.metrics_names[0] + \" over test data generator: \", out[0])\n",
    "print(model.metrics_names[1] + \" over test data generator: \", out[1])"
   ]
  },
  {
   "cell_type": "code",
   "execution_count": null,
   "metadata": {},
   "outputs": [],
   "source": []
  }
 ],
 "metadata": {
  "accelerator": "GPU",
  "colab": {
   "collapsed_sections": [],
   "name": "art.ipynb",
   "provenance": []
  },
  "kernelspec": {
   "display_name": "Python 3",
   "language": "python",
   "name": "python3"
  },
  "language_info": {
   "codemirror_mode": {
    "name": "ipython",
    "version": 3
   },
   "file_extension": ".py",
   "mimetype": "text/x-python",
   "name": "python",
   "nbconvert_exporter": "python",
   "pygments_lexer": "ipython3",
   "version": "3.6.9"
  }
 },
 "nbformat": 4,
 "nbformat_minor": 1
}
